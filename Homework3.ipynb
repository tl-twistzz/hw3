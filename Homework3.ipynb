{
 "cells": [
  {
   "cell_type": "markdown",
   "metadata": {},
   "source": [
    "1.编写 Python程序,判断输入a是否为质数"
   ]
  },
  {
   "cell_type": "code",
   "execution_count": null,
   "metadata": {},
   "outputs": [],
   "source": [
    "a=45\n",
    "flag=1\n",
    "for i in range (1,a):\n",
    "    if(a/i==int(a/i)):\n",
    "        print('不是质数')\n",
    "        flag=0\n",
    "        break\n",
    "if(flag):\n",
    "    print('是质数')"
   ]
  },
  {
   "cell_type": "markdown",
   "metadata": {},
   "source": [
    "2.用Python实现插入排序该算法，不允许直接调用插入排序函数，需要手动实现其逻辑过程。"
   ]
  },
  {
   "cell_type": "code",
   "execution_count": null,
   "metadata": {},
   "outputs": [],
   "source": [
    "arr=[12,4,6,8,9,45,7]\n",
    "def insert_sort(arr):\n",
    "    for i in range(1, len(arr)):\n",
    "        key = arr[i]\n",
    "        j = i - 1\n",
    "        while (j >=0 and key < arr[j]) :\n",
    "            arr[j+1] = arr[j]\n",
    "            j -= 1\n",
    "        arr[j+1] = key\n",
    "    return arr\n",
    "print(arr)"
   ]
  },
  {
   "cell_type": "markdown",
   "metadata": {},
   "source": [
    "3.用Python实现选择排序该算法，不允许直接调用选择排序函数，需要手动实现其逻辑过程。"
   ]
  },
  {
   "cell_type": "code",
   "execution_count": null,
   "metadata": {},
   "outputs": [],
   "source": [
    "arr=[2,45,55,7,32,5,8,10]\n",
    "def choose_sort(arr):\n",
    "    for i in range(len(arr)):\n",
    "        imax=i\n",
    "        for j in range(i+1,len(arr)):\n",
    "            if(arr[imax]<arr[j]): imax=j\n",
    "        arr[i],arr[imax]=arr[imax],arr[i]\n",
    "    return arr\n",
    "print(choose_sort(arr))"
   ]
  },
  {
   "cell_type": "markdown",
   "metadata": {},
   "source": [
    "4.用Python实现快速排序该算法，不允许直接调用快速排序函数，需要手动实现其逻辑过程。"
   ]
  },
  {
   "cell_type": "code",
   "execution_count": 13,
   "metadata": {},
   "outputs": [
    {
     "name": "stdout",
     "output_type": "stream",
     "text": [
      "[2, 5, 7, 8, 10, 22, 32, 45, 55, 56, 88, 96]\n"
     ]
    }
   ],
   "source": [
    "def quick_sort(q, l, r):\n",
    "    if l >= r:\n",
    "        return\n",
    "    x = q[l]\n",
    "    i, j = l, r\n",
    "    while i < j:\n",
    "        while i < j and q[j] >= x:\n",
    "            j -= 1\n",
    "        q[i] = q[j]\n",
    "        while i < j and q[i] <= x:\n",
    "            i += 1\n",
    "        q[j] = q[i]\n",
    "    q[i] = x\n",
    "    quick_sort(q, l, i - 1)\n",
    "    quick_sort(q, i + 1, r)\n",
    "\n",
    "arr = [2, 45, 55, 7, 32, 5, 8, 10, 88, 96, 56, 22]\n",
    "quick_sort(arr, 0, len(arr) - 1)\n",
    "print(arr)"
   ]
  },
  {
   "cell_type": "markdown",
   "metadata": {},
   "source": [
    "5.使用 Python 随机生成三组长度递增的随机数列，长度分别为100、1000、10000，对生成的随机数组使用不同的排序算法，例如选择排序和归并排序，至少三种排序方法。对这些数列的数据排序，并分析不同排序算法在不同长度数列下的运行效果，例如运行时间等指标。（可以使用排序函数）"
   ]
  },
  {
   "cell_type": "code",
   "execution_count": 19,
   "metadata": {},
   "outputs": [
    {
     "name": "stdout",
     "output_type": "stream",
     "text": [
      "[0.0009999275207519531, 0.012068510055541992, 1.2585649490356445]\n",
      "[0.0009930133819580078, 0.015009880065917969, 1.2799427509307861]\n",
      "[0.0, 0.0010466575622558594, 0.013946294784545898]\n"
     ]
    }
   ],
   "source": [
    "import random as rd\n",
    "from time import time\n",
    "\n",
    "t_insert=[0,0,0]\n",
    "t_choose=[0,0,0]\n",
    "t_quick=[0,0,0]\n",
    "\n",
    "def insert_sort(arr):\n",
    "    for i in range(1, len(arr)):\n",
    "        key = arr[i]\n",
    "        j = i - 1\n",
    "        while (j >=0 and key < arr[j]) :\n",
    "            arr[j+1] = arr[j]\n",
    "            j -= 1\n",
    "        arr[j+1] = key\n",
    "    return arr\n",
    "\n",
    "def choose_sort(arr):\n",
    "    for i in range(len(arr)):\n",
    "        imax=i\n",
    "        for j in range(i+1,len(arr)):\n",
    "            if(arr[imax]<arr[j]): imax=j\n",
    "        arr[i],arr[imax]=arr[imax],arr[i]\n",
    "    return arr\n",
    "\n",
    "def quick_sort(q, l, r):\n",
    "    if l >= r:\n",
    "        return\n",
    "    x = q[l]\n",
    "    i, j = l, r\n",
    "    while i < j:\n",
    "        while i < j and q[j] >= x:\n",
    "            j -= 1\n",
    "        q[i] = q[j]\n",
    "        while i < j and q[i] <= x:\n",
    "            i += 1\n",
    "        q[j] = q[i]\n",
    "    q[i] = x\n",
    "    quick_sort(q, l, i - 1)\n",
    "    quick_sort(q, i + 1, r)\n",
    "\n",
    "\n",
    "\n",
    "for i in range(3):\n",
    "    start_time = time()\n",
    "    arr=[rd.randint(0,10**i*100) for j in range(10**i*100)]\n",
    "    insert_sort(arr)\n",
    "    end_time = time()\n",
    "    run_time = end_time - start_time\n",
    "    t_insert[i]=run_time\n",
    "print(t_insert)\n",
    "\n",
    "for i in range(3):\n",
    "    start_time = time()\n",
    "    arr=[rd.randint(0,10**i*100) for j in range(10**i*100)]\n",
    "    choose_sort(arr)\n",
    "    end_time = time()\n",
    "    run_time = end_time - start_time\n",
    "    t_choose[i]=run_time\n",
    "print(t_choose)\n",
    "\n",
    "for i in range(3):\n",
    "    start_time = time()\n",
    "    arr=[rd.randint(0,10**i*100) for j in range(10**i*100)]\n",
    "    quick_sort(arr,0,len(arr)-1)\n",
    "    end_time = time()\n",
    "    run_time = end_time - start_time\n",
    "    t_quick[i]=run_time\n",
    "print(t_quick)\n",
    "\n",
    "#由此可见插入排序跟选择排序的运行时间接近，而快速排序明显快很多"
   ]
  },
  {
   "cell_type": "markdown",
   "metadata": {},
   "source": [
    "6.使用python代码获取当前系统时间"
   ]
  },
  {
   "cell_type": "code",
   "execution_count": 20,
   "metadata": {},
   "outputs": [
    {
     "name": "stdout",
     "output_type": "stream",
     "text": [
      "2024-10-17 18:08:42.782968\n"
     ]
    }
   ],
   "source": [
    "import datetime\n",
    "import time\n",
    "curr_time = datetime.datetime.now()\n",
    "print(curr_time)"
   ]
  },
  {
   "cell_type": "markdown",
   "metadata": {},
   "source": [
    "7.Homework/data文件夹下的stuGrade.csv文件中包含5位同学的学号、语文成绩、数学成绩和英语成绩，请先用记事本打开该文件，查看文件内容，然后编写Python程序，读取该文件，并计算出各科的平均成绩（保留2位小数）。"
   ]
  },
  {
   "cell_type": "code",
   "execution_count": 9,
   "metadata": {},
   "outputs": [
    {
     "name": "stdout",
     "output_type": "stream",
     "text": [
      "chinese 117.00\n",
      "math 118.00\n",
      "english 116.33\n"
     ]
    }
   ],
   "source": [
    "import csv\n",
    "score=[0,0,0]\n",
    "subjuct=['chinese','math','english']\n",
    "i=-1\n",
    "with open('./stuGrade.csv','r',newline='')as cs:\n",
    "    reader=csv.reader(cs)\n",
    "    for lines in reader:\n",
    "        if(i==-1 or i==4): \n",
    "            i+=1\n",
    "            continue\n",
    "        else:\n",
    "            score[0]+=int(lines[1])\n",
    "            score[1]+=int(lines[2])\n",
    "            score[2]+=int(lines[3])\n",
    "            i+=1\n",
    "    for i in range(3):\n",
    "        score[i]/=3\n",
    "        print(subjuct[i],\"%.2f\" % score[i])"
   ]
  },
  {
   "cell_type": "markdown",
   "metadata": {},
   "source": [
    "8.请在第7题的代码继续编写Python程序，将以下内容写入my.txt文件中，一并上传到github中。\n",
    "\n",
    "    第1行：你的学号和姓名\n",
    "\n",
    "    第2行：3门课程的平均成绩（任意课程），保留2位小数，以英文逗号间隔\n",
    "\n",
    "    第3行：系统当前时间，格式例如2020-01-01 12:00:00\n",
    "\n",
    "    第4行：两秒后的系统当前时间（利用sleep()方法）"
   ]
  },
  {
   "cell_type": "code",
   "execution_count": 15,
   "metadata": {},
   "outputs": [
    {
     "name": "stdout",
     "output_type": "stream",
     "text": [
      "2024-10-17 19:34:15.030206\n"
     ]
    }
   ],
   "source": [
    "import datetime\n",
    "import time\n",
    "curr_time = datetime.datetime.now()\n",
    "path= \"C:my.txt\"\n",
    "file = open(path,'w+')\n",
    "file.write('10235501411 徐铭\\n')\n",
    "file.write('%.2f,%.2f,%.2f\\n'%(88.27389,69.3992,77.93773))\n",
    "curr_time = datetime.datetime.now()\n",
    "file.write(str(curr_time))\n",
    "file.write('\\n')\n",
    "time.sleep(2)\n",
    "curr_time = datetime.datetime.now()\n",
    "file.write(str(curr_time))\n",
    "print(str(curr_time))\n"
   ]
  }
 ],
 "metadata": {
  "kernelspec": {
   "display_name": "Python 3",
   "language": "python",
   "name": "python3"
  },
  "language_info": {
   "codemirror_mode": {
    "name": "ipython",
    "version": 3
   },
   "file_extension": ".py",
   "mimetype": "text/x-python",
   "name": "python",
   "nbconvert_exporter": "python",
   "pygments_lexer": "ipython3",
   "version": "3.12.5"
  }
 },
 "nbformat": 4,
 "nbformat_minor": 2
}
